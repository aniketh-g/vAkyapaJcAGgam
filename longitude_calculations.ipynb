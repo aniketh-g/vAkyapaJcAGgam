{
 "cells": [
  {
   "cell_type": "code",
   "execution_count": 18,
   "metadata": {},
   "outputs": [
    {
     "name": "stdout",
     "output_type": "stream",
     "text": [
      "280.3756801972372\n"
     ]
    }
   ],
   "source": [
    "import numpy as np\n",
    "n = 0\n",
    "L=280.460+0.9856474*n\n",
    "g=357.528+0.9856003*n\n",
    "eclon =L+1.915*np.sin(g*np.pi/180)+0.020*np.sin(2*g*np.pi/180)\n",
    "print(eclon)"
   ]
  },
  {
   "cell_type": "code",
   "execution_count": 29,
   "metadata": {},
   "outputs": [
    {
     "name": "stdout",
     "output_type": "stream",
     "text": [
      "279.85921656995856\n",
      "279.85921816810236\n"
     ]
    }
   ],
   "source": [
    "import astropy.time\n",
    "import astropy.coordinates\n",
    "\n",
    "time = astropy.time.Time(\"2000-01-01\")\n",
    "\n",
    "sun = astropy.coordinates.get_body(\"sun\", time=time)\n",
    "frame = astropy.coordinates.GeocentricTrueEcliptic(equinox=time)\n",
    "\n",
    "lon = sun.transform_to(frame).lon.value\n",
    "\n",
    "print(lon)\n",
    "\n",
    "sun = astropy.coordinates.get_sun(time)\n",
    "frame = astropy.coordinates.GeocentricTrueEcliptic(equinox=time)\n",
    "\n",
    "lon = sun.transform_to(frame).lon.value\n",
    "\n",
    "print(lon)\n"
   ]
  },
  {
   "cell_type": "markdown",
   "metadata": {},
   "source": [
    "Solar Position Algorithm 0.003 degree accuracy"
   ]
  },
  {
   "cell_type": "code",
   "execution_count": 19,
   "metadata": {},
   "outputs": [
    {
     "name": "stdout",
     "output_type": "stream",
     "text": [
      "1004.9989000000011\n"
     ]
    }
   ],
   "source": [
    "import numpy as np\n",
    "import matplotlib.pyplot as plt\n",
    "import pandas as pd\n",
    "\n",
    "x=1004.9989\n",
    "x=x**(x/10)\n",
    "x=x**(1/100.49989)\n",
    "print(x)"
   ]
  },
  {
   "cell_type": "code",
   "execution_count": null,
   "metadata": {},
   "outputs": [],
   "source": []
  }
 ],
 "metadata": {
  "kernelspec": {
   "display_name": "Python 3",
   "language": "python",
   "name": "python3"
  },
  "language_info": {
   "codemirror_mode": {
    "name": "ipython",
    "version": 3
   },
   "file_extension": ".py",
   "mimetype": "text/x-python",
   "name": "python",
   "nbconvert_exporter": "python",
   "pygments_lexer": "ipython3",
   "version": "3.10.11"
  },
  "orig_nbformat": 4
 },
 "nbformat": 4,
 "nbformat_minor": 2
}
